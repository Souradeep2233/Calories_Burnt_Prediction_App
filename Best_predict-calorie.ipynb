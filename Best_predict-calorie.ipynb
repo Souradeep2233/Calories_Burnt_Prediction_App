{
 "cells": [
  {
   "cell_type": "code",
   "execution_count": 13,
   "metadata": {
    "_cell_guid": "b1076dfc-b9ad-4769-8c92-a6c4dae69d19",
    "_uuid": "8f2839f25d086af736a60e9eeb907d3b93b6e0e5",
    "execution": {
     "iopub.execute_input": "2025-05-28T13:50:50.829819Z",
     "iopub.status.busy": "2025-05-28T13:50:50.829142Z",
     "iopub.status.idle": "2025-05-28T13:50:53.775241Z",
     "shell.execute_reply": "2025-05-28T13:50:53.774291Z",
     "shell.execute_reply.started": "2025-05-28T13:50:50.829785Z"
    },
    "trusted": true
   },
   "outputs": [
    {
     "name": "stdout",
     "output_type": "stream",
     "text": [
      "Requirement already satisfied: torcheval in /usr/local/lib/python3.11/dist-packages (0.0.7)\n",
      "Requirement already satisfied: typing-extensions in /usr/local/lib/python3.11/dist-packages (from torcheval) (4.13.2)\n"
     ]
    }
   ],
   "source": [
    "!pip install torcheval\n",
    "\n",
    "import os\n",
    "import numpy as np \n",
    "import pandas as pd \n",
    "import torch \n",
    "import torch.nn as nn\n",
    "import torch.nn.functional as F\n",
    "from torch.utils.data import DataLoader,TensorDataset, random_split\n",
    "from torcheval.metrics import R2Score\n",
    "from tqdm import tqdm\n",
    "from sklearn.preprocessing import StandardScaler"
   ]
  },
  {
   "cell_type": "code",
   "execution_count": null,
   "metadata": {},
   "outputs": [],
   "source": [
    "# Dataset to be retrived , only if not using kaggle and paths must be manipulated accordingly\n",
    "\"\"\"import kagglehub\n",
    "kagglehub.login()\n",
    "playground_series_s5e5_path = kagglehub.competition_download('playground-series-s5e5')\n",
    "print('Data source import complete.')\"\"\""
   ]
  },
  {
   "cell_type": "markdown",
   "metadata": {},
   "source": [
    "# Data Processing"
   ]
  },
  {
   "cell_type": "code",
   "execution_count": 14,
   "metadata": {
    "execution": {
     "iopub.execute_input": "2025-05-28T13:50:53.777102Z",
     "iopub.status.busy": "2025-05-28T13:50:53.776885Z",
     "iopub.status.idle": "2025-05-28T13:50:54.395982Z",
     "shell.execute_reply": "2025-05-28T13:50:54.395307Z",
     "shell.execute_reply.started": "2025-05-28T13:50:53.777081Z"
    },
    "trusted": true
   },
   "outputs": [
    {
     "data": {
      "text/html": [
       "<div>\n",
       "<style scoped>\n",
       "    .dataframe tbody tr th:only-of-type {\n",
       "        vertical-align: middle;\n",
       "    }\n",
       "\n",
       "    .dataframe tbody tr th {\n",
       "        vertical-align: top;\n",
       "    }\n",
       "\n",
       "    .dataframe thead th {\n",
       "        text-align: right;\n",
       "    }\n",
       "</style>\n",
       "<table border=\"1\" class=\"dataframe\">\n",
       "  <thead>\n",
       "    <tr style=\"text-align: right;\">\n",
       "      <th></th>\n",
       "      <th>id</th>\n",
       "      <th>Sex</th>\n",
       "      <th>Age</th>\n",
       "      <th>Height</th>\n",
       "      <th>Weight</th>\n",
       "      <th>Duration</th>\n",
       "      <th>Heart_Rate</th>\n",
       "      <th>Body_Temp</th>\n",
       "      <th>Calories</th>\n",
       "    </tr>\n",
       "  </thead>\n",
       "  <tbody>\n",
       "    <tr>\n",
       "      <th>0</th>\n",
       "      <td>0</td>\n",
       "      <td>male</td>\n",
       "      <td>36</td>\n",
       "      <td>189.0</td>\n",
       "      <td>82.0</td>\n",
       "      <td>26.0</td>\n",
       "      <td>101.0</td>\n",
       "      <td>41.0</td>\n",
       "      <td>150.0</td>\n",
       "    </tr>\n",
       "    <tr>\n",
       "      <th>1</th>\n",
       "      <td>1</td>\n",
       "      <td>female</td>\n",
       "      <td>64</td>\n",
       "      <td>163.0</td>\n",
       "      <td>60.0</td>\n",
       "      <td>8.0</td>\n",
       "      <td>85.0</td>\n",
       "      <td>39.7</td>\n",
       "      <td>34.0</td>\n",
       "    </tr>\n",
       "    <tr>\n",
       "      <th>2</th>\n",
       "      <td>2</td>\n",
       "      <td>female</td>\n",
       "      <td>51</td>\n",
       "      <td>161.0</td>\n",
       "      <td>64.0</td>\n",
       "      <td>7.0</td>\n",
       "      <td>84.0</td>\n",
       "      <td>39.8</td>\n",
       "      <td>29.0</td>\n",
       "    </tr>\n",
       "    <tr>\n",
       "      <th>3</th>\n",
       "      <td>3</td>\n",
       "      <td>male</td>\n",
       "      <td>20</td>\n",
       "      <td>192.0</td>\n",
       "      <td>90.0</td>\n",
       "      <td>25.0</td>\n",
       "      <td>105.0</td>\n",
       "      <td>40.7</td>\n",
       "      <td>140.0</td>\n",
       "    </tr>\n",
       "    <tr>\n",
       "      <th>4</th>\n",
       "      <td>4</td>\n",
       "      <td>female</td>\n",
       "      <td>38</td>\n",
       "      <td>166.0</td>\n",
       "      <td>61.0</td>\n",
       "      <td>25.0</td>\n",
       "      <td>102.0</td>\n",
       "      <td>40.6</td>\n",
       "      <td>146.0</td>\n",
       "    </tr>\n",
       "  </tbody>\n",
       "</table>\n",
       "</div>"
      ],
      "text/plain": [
       "   id     Sex  Age  Height  Weight  Duration  Heart_Rate  Body_Temp  Calories\n",
       "0   0    male   36   189.0    82.0      26.0       101.0       41.0     150.0\n",
       "1   1  female   64   163.0    60.0       8.0        85.0       39.7      34.0\n",
       "2   2  female   51   161.0    64.0       7.0        84.0       39.8      29.0\n",
       "3   3    male   20   192.0    90.0      25.0       105.0       40.7     140.0\n",
       "4   4  female   38   166.0    61.0      25.0       102.0       40.6     146.0"
      ]
     },
     "execution_count": 14,
     "metadata": {},
     "output_type": "execute_result"
    }
   ],
   "source": [
    "train=pd.read_csv(\"/kaggle/input/playground-series-s5e5/train.csv\")\n",
    "test=pd.read_csv(\"/kaggle/input/playground-series-s5e5/test.csv\")\n",
    "train.head()"
   ]
  },
  {
   "cell_type": "code",
   "execution_count": 15,
   "metadata": {
    "execution": {
     "iopub.execute_input": "2025-05-28T13:50:54.396970Z",
     "iopub.status.busy": "2025-05-28T13:50:54.396746Z",
     "iopub.status.idle": "2025-05-28T13:50:54.407001Z",
     "shell.execute_reply": "2025-05-28T13:50:54.406296Z",
     "shell.execute_reply.started": "2025-05-28T13:50:54.396954Z"
    },
    "trusted": true
   },
   "outputs": [
    {
     "data": {
      "text/html": [
       "<div>\n",
       "<style scoped>\n",
       "    .dataframe tbody tr th:only-of-type {\n",
       "        vertical-align: middle;\n",
       "    }\n",
       "\n",
       "    .dataframe tbody tr th {\n",
       "        vertical-align: top;\n",
       "    }\n",
       "\n",
       "    .dataframe thead th {\n",
       "        text-align: right;\n",
       "    }\n",
       "</style>\n",
       "<table border=\"1\" class=\"dataframe\">\n",
       "  <thead>\n",
       "    <tr style=\"text-align: right;\">\n",
       "      <th></th>\n",
       "      <th>id</th>\n",
       "      <th>Sex</th>\n",
       "      <th>Age</th>\n",
       "      <th>Height</th>\n",
       "      <th>Weight</th>\n",
       "      <th>Duration</th>\n",
       "      <th>Heart_Rate</th>\n",
       "      <th>Body_Temp</th>\n",
       "    </tr>\n",
       "  </thead>\n",
       "  <tbody>\n",
       "    <tr>\n",
       "      <th>0</th>\n",
       "      <td>750000</td>\n",
       "      <td>male</td>\n",
       "      <td>45</td>\n",
       "      <td>177.0</td>\n",
       "      <td>81.0</td>\n",
       "      <td>7.0</td>\n",
       "      <td>87.0</td>\n",
       "      <td>39.8</td>\n",
       "    </tr>\n",
       "    <tr>\n",
       "      <th>1</th>\n",
       "      <td>750001</td>\n",
       "      <td>male</td>\n",
       "      <td>26</td>\n",
       "      <td>200.0</td>\n",
       "      <td>97.0</td>\n",
       "      <td>20.0</td>\n",
       "      <td>101.0</td>\n",
       "      <td>40.5</td>\n",
       "    </tr>\n",
       "    <tr>\n",
       "      <th>2</th>\n",
       "      <td>750002</td>\n",
       "      <td>female</td>\n",
       "      <td>29</td>\n",
       "      <td>188.0</td>\n",
       "      <td>85.0</td>\n",
       "      <td>16.0</td>\n",
       "      <td>102.0</td>\n",
       "      <td>40.4</td>\n",
       "    </tr>\n",
       "    <tr>\n",
       "      <th>3</th>\n",
       "      <td>750003</td>\n",
       "      <td>female</td>\n",
       "      <td>39</td>\n",
       "      <td>172.0</td>\n",
       "      <td>73.0</td>\n",
       "      <td>20.0</td>\n",
       "      <td>107.0</td>\n",
       "      <td>40.6</td>\n",
       "    </tr>\n",
       "    <tr>\n",
       "      <th>4</th>\n",
       "      <td>750004</td>\n",
       "      <td>female</td>\n",
       "      <td>30</td>\n",
       "      <td>173.0</td>\n",
       "      <td>67.0</td>\n",
       "      <td>16.0</td>\n",
       "      <td>94.0</td>\n",
       "      <td>40.5</td>\n",
       "    </tr>\n",
       "  </tbody>\n",
       "</table>\n",
       "</div>"
      ],
      "text/plain": [
       "       id     Sex  Age  Height  Weight  Duration  Heart_Rate  Body_Temp\n",
       "0  750000    male   45   177.0    81.0       7.0        87.0       39.8\n",
       "1  750001    male   26   200.0    97.0      20.0       101.0       40.5\n",
       "2  750002  female   29   188.0    85.0      16.0       102.0       40.4\n",
       "3  750003  female   39   172.0    73.0      20.0       107.0       40.6\n",
       "4  750004  female   30   173.0    67.0      16.0        94.0       40.5"
      ]
     },
     "execution_count": 15,
     "metadata": {},
     "output_type": "execute_result"
    }
   ],
   "source": [
    "test.head()"
   ]
  },
  {
   "cell_type": "code",
   "execution_count": 16,
   "metadata": {
    "execution": {
     "iopub.execute_input": "2025-05-28T13:50:54.408788Z",
     "iopub.status.busy": "2025-05-28T13:50:54.408581Z",
     "iopub.status.idle": "2025-05-28T13:50:54.442478Z",
     "shell.execute_reply": "2025-05-28T13:50:54.441918Z",
     "shell.execute_reply.started": "2025-05-28T13:50:54.408774Z"
    },
    "trusted": true
   },
   "outputs": [
    {
     "data": {
      "text/html": [
       "<div>\n",
       "<style scoped>\n",
       "    .dataframe tbody tr th:only-of-type {\n",
       "        vertical-align: middle;\n",
       "    }\n",
       "\n",
       "    .dataframe tbody tr th {\n",
       "        vertical-align: top;\n",
       "    }\n",
       "\n",
       "    .dataframe thead th {\n",
       "        text-align: right;\n",
       "    }\n",
       "</style>\n",
       "<table border=\"1\" class=\"dataframe\">\n",
       "  <thead>\n",
       "    <tr style=\"text-align: right;\">\n",
       "      <th></th>\n",
       "      <th>Sex</th>\n",
       "      <th>Age</th>\n",
       "      <th>Height</th>\n",
       "      <th>Weight</th>\n",
       "      <th>Duration</th>\n",
       "      <th>Heart_Rate</th>\n",
       "      <th>Body_Temp</th>\n",
       "      <th>Calories</th>\n",
       "    </tr>\n",
       "  </thead>\n",
       "  <tbody>\n",
       "    <tr>\n",
       "      <th>0</th>\n",
       "      <td>male</td>\n",
       "      <td>36</td>\n",
       "      <td>189.0</td>\n",
       "      <td>82.0</td>\n",
       "      <td>26.0</td>\n",
       "      <td>101.0</td>\n",
       "      <td>41.0</td>\n",
       "      <td>150.0</td>\n",
       "    </tr>\n",
       "    <tr>\n",
       "      <th>1</th>\n",
       "      <td>female</td>\n",
       "      <td>64</td>\n",
       "      <td>163.0</td>\n",
       "      <td>60.0</td>\n",
       "      <td>8.0</td>\n",
       "      <td>85.0</td>\n",
       "      <td>39.7</td>\n",
       "      <td>34.0</td>\n",
       "    </tr>\n",
       "    <tr>\n",
       "      <th>2</th>\n",
       "      <td>female</td>\n",
       "      <td>51</td>\n",
       "      <td>161.0</td>\n",
       "      <td>64.0</td>\n",
       "      <td>7.0</td>\n",
       "      <td>84.0</td>\n",
       "      <td>39.8</td>\n",
       "      <td>29.0</td>\n",
       "    </tr>\n",
       "    <tr>\n",
       "      <th>3</th>\n",
       "      <td>male</td>\n",
       "      <td>20</td>\n",
       "      <td>192.0</td>\n",
       "      <td>90.0</td>\n",
       "      <td>25.0</td>\n",
       "      <td>105.0</td>\n",
       "      <td>40.7</td>\n",
       "      <td>140.0</td>\n",
       "    </tr>\n",
       "    <tr>\n",
       "      <th>4</th>\n",
       "      <td>female</td>\n",
       "      <td>38</td>\n",
       "      <td>166.0</td>\n",
       "      <td>61.0</td>\n",
       "      <td>25.0</td>\n",
       "      <td>102.0</td>\n",
       "      <td>40.6</td>\n",
       "      <td>146.0</td>\n",
       "    </tr>\n",
       "  </tbody>\n",
       "</table>\n",
       "</div>"
      ],
      "text/plain": [
       "      Sex  Age  Height  Weight  Duration  Heart_Rate  Body_Temp  Calories\n",
       "0    male   36   189.0    82.0      26.0       101.0       41.0     150.0\n",
       "1  female   64   163.0    60.0       8.0        85.0       39.7      34.0\n",
       "2  female   51   161.0    64.0       7.0        84.0       39.8      29.0\n",
       "3    male   20   192.0    90.0      25.0       105.0       40.7     140.0\n",
       "4  female   38   166.0    61.0      25.0       102.0       40.6     146.0"
      ]
     },
     "execution_count": 16,
     "metadata": {},
     "output_type": "execute_result"
    }
   ],
   "source": [
    "train=train.drop([\"id\"],axis=1)\n",
    "train.head()"
   ]
  },
  {
   "cell_type": "code",
   "execution_count": 17,
   "metadata": {
    "execution": {
     "iopub.execute_input": "2025-05-28T13:50:54.443399Z",
     "iopub.status.busy": "2025-05-28T13:50:54.443094Z",
     "iopub.status.idle": "2025-05-28T13:50:54.529386Z",
     "shell.execute_reply": "2025-05-28T13:50:54.528764Z",
     "shell.execute_reply.started": "2025-05-28T13:50:54.443383Z"
    },
    "trusted": true
   },
   "outputs": [
    {
     "name": "stdout",
     "output_type": "stream",
     "text": [
      "   Sex  Age  Height  Weight  Duration  Heart_Rate  Body_Temp  Calories\n",
      "0    1   36   189.0    82.0      26.0       101.0       41.0     150.0\n",
      "1    0   64   163.0    60.0       8.0        85.0       39.7      34.0\n",
      "2    0   51   161.0    64.0       7.0        84.0       39.8      29.0\n",
      "3    1   20   192.0    90.0      25.0       105.0       40.7     140.0\n",
      "4    0   38   166.0    61.0      25.0       102.0       40.6     146.0        id  Sex  Age  Height  Weight  Duration  Heart_Rate  Body_Temp\n",
      "0  750000    1   45   177.0    81.0       7.0        87.0       39.8\n",
      "1  750001    1   26   200.0    97.0      20.0       101.0       40.5\n",
      "2  750002    0   29   188.0    85.0      16.0       102.0       40.4\n",
      "3  750003    0   39   172.0    73.0      20.0       107.0       40.6\n",
      "4  750004    0   30   173.0    67.0      16.0        94.0       40.5\n"
     ]
    }
   ],
   "source": [
    "# Male--->1 , female ----> 0\n",
    "train[\"Sex\"]=np.where(train[\"Sex\"]==\"male\",1,0)\n",
    "test[\"Sex\"]=np.where(test[\"Sex\"]==\"male\",1,0)\n",
    "print(train.head(),test.head())"
   ]
  },
  {
   "cell_type": "code",
   "execution_count": 18,
   "metadata": {
    "execution": {
     "iopub.execute_input": "2025-05-28T13:50:54.530195Z",
     "iopub.status.busy": "2025-05-28T13:50:54.529970Z",
     "iopub.status.idle": "2025-05-28T13:50:54.554442Z",
     "shell.execute_reply": "2025-05-28T13:50:54.553774Z",
     "shell.execute_reply.started": "2025-05-28T13:50:54.530172Z"
    },
    "trusted": true
   },
   "outputs": [
    {
     "data": {
      "text/html": [
       "<div>\n",
       "<style scoped>\n",
       "    .dataframe tbody tr th:only-of-type {\n",
       "        vertical-align: middle;\n",
       "    }\n",
       "\n",
       "    .dataframe tbody tr th {\n",
       "        vertical-align: top;\n",
       "    }\n",
       "\n",
       "    .dataframe thead th {\n",
       "        text-align: right;\n",
       "    }\n",
       "</style>\n",
       "<table border=\"1\" class=\"dataframe\">\n",
       "  <thead>\n",
       "    <tr style=\"text-align: right;\">\n",
       "      <th></th>\n",
       "      <th>Sex</th>\n",
       "      <th>Age</th>\n",
       "      <th>Height</th>\n",
       "      <th>Weight</th>\n",
       "      <th>Duration</th>\n",
       "      <th>Heart_Rate</th>\n",
       "      <th>Body_Temp</th>\n",
       "    </tr>\n",
       "  </thead>\n",
       "  <tbody>\n",
       "    <tr>\n",
       "      <th>0</th>\n",
       "      <td>1</td>\n",
       "      <td>36</td>\n",
       "      <td>189.0</td>\n",
       "      <td>82.0</td>\n",
       "      <td>26.0</td>\n",
       "      <td>101.0</td>\n",
       "      <td>41.0</td>\n",
       "    </tr>\n",
       "    <tr>\n",
       "      <th>1</th>\n",
       "      <td>0</td>\n",
       "      <td>64</td>\n",
       "      <td>163.0</td>\n",
       "      <td>60.0</td>\n",
       "      <td>8.0</td>\n",
       "      <td>85.0</td>\n",
       "      <td>39.7</td>\n",
       "    </tr>\n",
       "    <tr>\n",
       "      <th>2</th>\n",
       "      <td>0</td>\n",
       "      <td>51</td>\n",
       "      <td>161.0</td>\n",
       "      <td>64.0</td>\n",
       "      <td>7.0</td>\n",
       "      <td>84.0</td>\n",
       "      <td>39.8</td>\n",
       "    </tr>\n",
       "    <tr>\n",
       "      <th>3</th>\n",
       "      <td>1</td>\n",
       "      <td>20</td>\n",
       "      <td>192.0</td>\n",
       "      <td>90.0</td>\n",
       "      <td>25.0</td>\n",
       "      <td>105.0</td>\n",
       "      <td>40.7</td>\n",
       "    </tr>\n",
       "    <tr>\n",
       "      <th>4</th>\n",
       "      <td>0</td>\n",
       "      <td>38</td>\n",
       "      <td>166.0</td>\n",
       "      <td>61.0</td>\n",
       "      <td>25.0</td>\n",
       "      <td>102.0</td>\n",
       "      <td>40.6</td>\n",
       "    </tr>\n",
       "  </tbody>\n",
       "</table>\n",
       "</div>"
      ],
      "text/plain": [
       "   Sex  Age  Height  Weight  Duration  Heart_Rate  Body_Temp\n",
       "0    1   36   189.0    82.0      26.0       101.0       41.0\n",
       "1    0   64   163.0    60.0       8.0        85.0       39.7\n",
       "2    0   51   161.0    64.0       7.0        84.0       39.8\n",
       "3    1   20   192.0    90.0      25.0       105.0       40.7\n",
       "4    0   38   166.0    61.0      25.0       102.0       40.6"
      ]
     },
     "execution_count": 18,
     "metadata": {},
     "output_type": "execute_result"
    }
   ],
   "source": [
    "y_train=train[\"Calories\"]\n",
    "train=train.drop([\"Calories\"],axis=1)\n",
    "train.head()"
   ]
  },
  {
   "cell_type": "code",
   "execution_count": 19,
   "metadata": {
    "execution": {
     "iopub.execute_input": "2025-05-28T13:50:54.555494Z",
     "iopub.status.busy": "2025-05-28T13:50:54.555204Z",
     "iopub.status.idle": "2025-05-28T13:50:54.560953Z",
     "shell.execute_reply": "2025-05-28T13:50:54.560315Z",
     "shell.execute_reply.started": "2025-05-28T13:50:54.555472Z"
    },
    "trusted": true
   },
   "outputs": [
    {
     "data": {
      "text/plain": [
       "0    150.0\n",
       "1     34.0\n",
       "2     29.0\n",
       "3    140.0\n",
       "4    146.0\n",
       "Name: Calories, dtype: float64"
      ]
     },
     "execution_count": 19,
     "metadata": {},
     "output_type": "execute_result"
    }
   ],
   "source": [
    "y_train.head()"
   ]
  },
  {
   "cell_type": "code",
   "execution_count": 20,
   "metadata": {
    "execution": {
     "iopub.execute_input": "2025-05-28T13:50:54.561924Z",
     "iopub.status.busy": "2025-05-28T13:50:54.561694Z",
     "iopub.status.idle": "2025-05-28T13:50:54.575671Z",
     "shell.execute_reply": "2025-05-28T13:50:54.574990Z",
     "shell.execute_reply.started": "2025-05-28T13:50:54.561901Z"
    },
    "trusted": true
   },
   "outputs": [
    {
     "name": "stdout",
     "output_type": "stream",
     "text": [
      "cuda\n"
     ]
    }
   ],
   "source": [
    "device=torch.device(\"cuda\" if torch.cuda.is_available() else \"cpu\")\n",
    "print(device)"
   ]
  },
  {
   "cell_type": "code",
   "execution_count": 21,
   "metadata": {
    "execution": {
     "iopub.execute_input": "2025-05-28T13:50:54.577239Z",
     "iopub.status.busy": "2025-05-28T13:50:54.576440Z",
     "iopub.status.idle": "2025-05-28T13:50:54.821469Z",
     "shell.execute_reply": "2025-05-28T13:50:54.820628Z",
     "shell.execute_reply.started": "2025-05-28T13:50:54.577216Z"
    },
    "trusted": true
   },
   "outputs": [],
   "source": [
    "noise = 1.15\n",
    "\n",
    "# Convert to numpy\n",
    "train_tensor = torch.tensor(train.values, dtype=torch.float)\n",
    "y_train_tensor = torch.tensor(y_train.values, dtype=torch.float).unsqueeze(1)\n",
    "\n",
    "train_numpy = train_tensor.numpy()\n",
    "y_train_numpy = y_train_tensor.numpy()\n",
    "\n",
    "# Use two separate scalers\n",
    "X_scaler = StandardScaler()\n",
    "y_scaler = StandardScaler()\n",
    "\n",
    "train_np = X_scaler.fit_transform(train_numpy)\n",
    "y_train_np = y_scaler.fit_transform(y_train_numpy)\n",
    "\n",
    "# Convert back to torch tensors\n",
    "train_tensor = torch.tensor(train_np, dtype=torch.float)\n",
    "y_train_tensor = torch.tensor(y_train_np, dtype=torch.float)\n",
    "\n",
    "# Prepare dataset and loaders\n",
    "training_data = TensorDataset(noise * train_tensor, y_train_tensor)\n",
    "\n",
    "val_ratio = 0.2\n",
    "val_size = int(len(training_data) * val_ratio)\n",
    "train_size = len(training_data) - val_size\n",
    "\n",
    "training_data, val_data = random_split(training_data, [train_size, val_size])\n",
    "\n",
    "train_loader = DataLoader(training_data, batch_size=32, shuffle=True, num_workers=4)\n",
    "val_loader = DataLoader(val_data, batch_size=32, shuffle=False, num_workers=4)\n"
   ]
  },
  {
   "cell_type": "code",
   "execution_count": 22,
   "metadata": {
    "execution": {
     "iopub.execute_input": "2025-05-28T13:50:54.823974Z",
     "iopub.status.busy": "2025-05-28T13:50:54.823765Z",
     "iopub.status.idle": "2025-05-28T13:50:54.830619Z",
     "shell.execute_reply": "2025-05-28T13:50:54.830062Z",
     "shell.execute_reply.started": "2025-05-28T13:50:54.823958Z"
    },
    "trusted": true
   },
   "outputs": [
    {
     "data": {
      "text/plain": [
       "['y_scaler.pkl']"
      ]
     },
     "execution_count": 22,
     "metadata": {},
     "output_type": "execute_result"
    }
   ],
   "source": [
    "import joblib\n",
    "joblib.dump(X_scaler, 'X_scaler.pkl')\n",
    "joblib.dump(y_scaler, 'y_scaler.pkl')"
   ]
  },
  {
   "cell_type": "code",
   "execution_count": 23,
   "metadata": {
    "execution": {
     "iopub.execute_input": "2025-05-28T13:50:54.831440Z",
     "iopub.status.busy": "2025-05-28T13:50:54.831175Z",
     "iopub.status.idle": "2025-05-28T13:50:55.019465Z",
     "shell.execute_reply": "2025-05-28T13:50:55.018677Z",
     "shell.execute_reply.started": "2025-05-28T13:50:54.831415Z"
    },
    "trusted": true
   },
   "outputs": [
    {
     "name": "stdout",
     "output_type": "stream",
     "text": [
      "750000 750000\n",
      "torch.Size([750000, 7]) torch.Size([750000, 1])\n",
      "18750 4688\n",
      "Batch train X shape: torch.Size([32, 7])\n",
      "Batch train y shape: torch.Size([32, 1])\n"
     ]
    }
   ],
   "source": [
    "print(len(train),len(y_train))\n",
    "print(train_tensor.shape,y_train_tensor.shape)\n",
    "print(len(train_loader),len(val_loader))\n",
    "for xb, yb in train_loader:\n",
    "    print(f\"Batch train X shape: {xb.shape}\")\n",
    "    print(f\"Batch train y shape: {yb.shape}\")\n",
    "    break  # just one batch"
   ]
  },
  {
   "cell_type": "markdown",
   "metadata": {},
   "source": [
    "#  Model Development"
   ]
  },
  {
   "cell_type": "markdown",
   "metadata": {},
   "source": [
    "     Noise added\n",
    "     Data normalized\n",
    "     Momentum auto adapted\n",
    "     Regularization auto integrated \n",
    "     Reduce Lr on plateau\n",
    "     Dropping\n",
    "     Early stopping\n",
    "     Deep Network\n",
    "     Batch Norm in training\n",
    "     distributed dropout\n",
    "     Grad_clip"
   ]
  },
  {
   "cell_type": "markdown",
   "metadata": {},
   "source": [
    " use nn.BatchNorm1d()"
   ]
  },
  {
   "cell_type": "code",
   "execution_count": 24,
   "metadata": {
    "execution": {
     "iopub.execute_input": "2025-05-28T13:50:55.020710Z",
     "iopub.status.busy": "2025-05-28T13:50:55.020501Z",
     "iopub.status.idle": "2025-05-28T13:50:55.209041Z",
     "shell.execute_reply": "2025-05-28T13:50:55.208270Z",
     "shell.execute_reply.started": "2025-05-28T13:50:55.020688Z"
    },
    "trusted": true
   },
   "outputs": [],
   "source": [
    "class calorie(nn.Module):\n",
    "    def __init__(self):\n",
    "        super(calorie,self).__init__() # Even if i override parent class still i can use parent class methods.\n",
    "        self.net=nn.Sequential(\n",
    "            nn.Linear(7,56),\n",
    "            nn.BatchNorm1d(56),\n",
    "            nn.ReLU(),\n",
    "            \n",
    "            nn.Linear(56,224),\n",
    "            nn.BatchNorm1d(224),\n",
    "            nn.ReLU(),\n",
    "            \n",
    "            nn.Linear(224,896),\n",
    "            nn.BatchNorm1d(896),\n",
    "            nn.ReLU(),\n",
    "            \n",
    "            nn.Linear(896,448),\n",
    "            nn.BatchNorm1d(448),\n",
    "            nn.ReLU(),\n",
    "            \n",
    "            nn.Dropout(.3),\n",
    "            \n",
    "            nn.Linear(448,112),\n",
    "            nn.BatchNorm1d(112),\n",
    "            nn.ReLU(),\n",
    "            \n",
    "            nn.Linear(112,64),\n",
    "            nn.BatchNorm1d(64),\n",
    "            nn.ReLU(),\n",
    "            \n",
    "            nn.Dropout(.2),            \n",
    "            \n",
    "            nn.Linear(64,32),\n",
    "            nn.BatchNorm1d(32),\n",
    "            nn.ReLU(),\n",
    "            \n",
    "            nn.Linear(32,8),\n",
    "            nn.BatchNorm1d(8),\n",
    "            nn.ReLU(),\n",
    "            \n",
    "            nn.Linear(8,1),\n",
    "        ) # Use of f(x)--> R-->G()---> R---> H()...makes it behave like a non linear regression\n",
    "\n",
    "    def forward(self,x):\n",
    "        return self.net(x)\n",
    "\n",
    "model=calorie().to(device)"
   ]
  },
  {
   "cell_type": "code",
   "execution_count": 25,
   "metadata": {
    "execution": {
     "iopub.execute_input": "2025-05-28T13:50:55.210135Z",
     "iopub.status.busy": "2025-05-28T13:50:55.209880Z",
     "iopub.status.idle": "2025-05-28T14:03:27.796532Z",
     "shell.execute_reply": "2025-05-28T14:03:27.795690Z",
     "shell.execute_reply.started": "2025-05-28T13:50:55.210110Z"
    },
    "trusted": true
   },
   "outputs": [
    {
     "name": "stderr",
     "output_type": "stream",
     "text": [
      "/usr/local/lib/python3.11/dist-packages/torch/optim/lr_scheduler.py:62: UserWarning: The verbose parameter is deprecated. Please use get_last_lr() to access the learning rate.\n",
      "  warnings.warn(\n",
      "Epoch 1/100 [Training]:   0%|          | 0/18750 [00:00<?, ?it/s]/tmp/ipykernel_35/2499535233.py:32: FutureWarning: `torch.nn.utils.clip_grad_norm` is now deprecated in favor of `torch.nn.utils.clip_grad_norm_`.\n",
      "  nn.utils.clip_grad_norm(model.parameters(),max_norm=1.0)\n",
      "                                                                                            \r"
     ]
    },
    {
     "name": "stdout",
     "output_type": "stream",
     "text": [
      "Epoch 1/100 | Train Loss: 0.0386 | Val Loss: 0.0085 | Train R2: 0.9614 | Val R2: 0.9915\n"
     ]
    },
    {
     "name": "stderr",
     "output_type": "stream",
     "text": [
      "                                                                                            \r"
     ]
    },
    {
     "name": "stdout",
     "output_type": "stream",
     "text": [
      "Epoch 2/100 | Train Loss: 0.0180 | Val Loss: 0.0151 | Train R2: 0.9820 | Val R2: 0.9850\n"
     ]
    },
    {
     "name": "stderr",
     "output_type": "stream",
     "text": [
      "                                                                                            \r"
     ]
    },
    {
     "name": "stdout",
     "output_type": "stream",
     "text": [
      "Epoch 4/100 | Train Loss: 0.0136 | Val Loss: 0.0107 | Train R2: 0.9864 | Val R2: 0.9893\n"
     ]
    },
    {
     "name": "stderr",
     "output_type": "stream",
     "text": [
      "                                                                                            "
     ]
    },
    {
     "name": "stdout",
     "output_type": "stream",
     "text": [
      "Epoch 6/100 | Train Loss: 0.0105 | Val Loss: 0.0125 | Train R2: 0.9895 | Val R2: 0.9875\n",
      "\n",
      "Early stopping at epoch 6. Best Val R2: 0.9915\n"
     ]
    },
    {
     "name": "stderr",
     "output_type": "stream",
     "text": [
      "\r"
     ]
    }
   ],
   "source": [
    "# Define loss, optimizer, scheduler\n",
    "loss_fn = nn.MSELoss()\n",
    "optimizer = torch.optim.Adam(model.parameters(), lr=0.0001)\n",
    "scheduler = torch.optim.lr_scheduler.ReduceLROnPlateau(optimizer, mode='min', patience=3, verbose=True)\n",
    "\n",
    "# Metrics\n",
    "train_metric = R2Score().to(device)\n",
    "val_metric = R2Score().to(device)\n",
    "\n",
    "# Training setup\n",
    "epochs = 100\n",
    "patience = 5\n",
    "best_val_r2 = float('-inf')\n",
    "patience_counter = 0\n",
    "best_model_state = None\n",
    "\n",
    "# Training loop\n",
    "for epoch in range(1, epochs + 1):\n",
    "    model.train()\n",
    "    train_metric.reset()\n",
    "    total_train_loss = 0.0\n",
    "\n",
    "    train_loader_tqdm = tqdm(train_loader, desc=f\"Epoch {epoch}/{epochs} [Training]\", leave=False)\n",
    "    for batch_idx, (x, y) in enumerate(train_loader_tqdm):\n",
    "        x = x.to(device)\n",
    "        y = y.to(device)\n",
    "\n",
    "        optimizer.zero_grad()\n",
    "        output = model(x)\n",
    "        loss = loss_fn(output, y)\n",
    "        loss.backward()\n",
    "        nn.utils.clip_grad_norm(model.parameters(),max_norm=1.0)\n",
    "        optimizer.step()\n",
    "\n",
    "        train_metric.update(output, y)\n",
    "        total_train_loss += loss.item()\n",
    "\n",
    "        if (batch_idx + 1) % 1000 == 0:\n",
    "            train_loader_tqdm.set_postfix(loss=loss.item())\n",
    "\n",
    "    train_r2 = train_metric.compute()\n",
    "    avg_train_loss = total_train_loss / len(train_loader)\n",
    "\n",
    "    # Validation\n",
    "    model.eval()\n",
    "    val_metric.reset()\n",
    "    total_val_loss = 0.0\n",
    "\n",
    "    with torch.no_grad():\n",
    "        val_loader_tqdm = tqdm(val_loader, desc=f\"Epoch {epoch}/{epochs} [Validation]\", leave=False)\n",
    "        for x, y in val_loader_tqdm:\n",
    "            x = x.to(device)\n",
    "            y = y.to(device)\n",
    "            preds = model(x)\n",
    "            val_loss = loss_fn(preds, y)\n",
    "            total_val_loss += val_loss.item()\n",
    "            val_metric.update(preds, y)\n",
    "\n",
    "    val_r2 = val_metric.compute()\n",
    "    avg_val_loss = total_val_loss / len(val_loader)\n",
    "\n",
    "    # Reduce LR scheduler\n",
    "    scheduler.step(avg_val_loss)\n",
    "\n",
    "    # Logging\n",
    "    if epoch % 2 == 0 or epoch == 1:\n",
    "        print(f\"Epoch {epoch}/{epochs} | Train Loss: {avg_train_loss:.4f} | Val Loss: {avg_val_loss:.4f} | \"\n",
    "              f\"Train R2: {train_r2:.4f} | Val R2: {val_r2:.4f}\")\n",
    "\n",
    "    # Early stopping\n",
    "    if val_r2 > best_val_r2:\n",
    "        best_val_r2 = val_r2\n",
    "        patience_counter = 0\n",
    "        best_model_state = model.state_dict()\n",
    "    else:\n",
    "        patience_counter += 1\n",
    "        if patience_counter >= patience:\n",
    "            print(f\"\\nEarly stopping at epoch {epoch}. Best Val R2: {best_val_r2:.4f}\")\n",
    "            if best_model_state is not None:\n",
    "                torch.save(best_model_state, 'Calories_Prediction.pt')\n",
    "                model.load_state_dict(best_model_state)\n",
    "            break\n"
   ]
  },
  {
   "cell_type": "code",
   "execution_count": 26,
   "metadata": {
    "execution": {
     "iopub.execute_input": "2025-05-28T14:03:27.797754Z",
     "iopub.status.busy": "2025-05-28T14:03:27.797444Z",
     "iopub.status.idle": "2025-05-28T14:03:27.810087Z",
     "shell.execute_reply": "2025-05-28T14:03:27.809563Z",
     "shell.execute_reply.started": "2025-05-28T14:03:27.797724Z"
    },
    "trusted": true
   },
   "outputs": [
    {
     "data": {
      "text/html": [
       "<div>\n",
       "<style scoped>\n",
       "    .dataframe tbody tr th:only-of-type {\n",
       "        vertical-align: middle;\n",
       "    }\n",
       "\n",
       "    .dataframe tbody tr th {\n",
       "        vertical-align: top;\n",
       "    }\n",
       "\n",
       "    .dataframe thead th {\n",
       "        text-align: right;\n",
       "    }\n",
       "</style>\n",
       "<table border=\"1\" class=\"dataframe\">\n",
       "  <thead>\n",
       "    <tr style=\"text-align: right;\">\n",
       "      <th></th>\n",
       "      <th>id</th>\n",
       "      <th>Sex</th>\n",
       "      <th>Age</th>\n",
       "      <th>Height</th>\n",
       "      <th>Weight</th>\n",
       "      <th>Duration</th>\n",
       "      <th>Heart_Rate</th>\n",
       "      <th>Body_Temp</th>\n",
       "    </tr>\n",
       "  </thead>\n",
       "  <tbody>\n",
       "    <tr>\n",
       "      <th>0</th>\n",
       "      <td>750000</td>\n",
       "      <td>1</td>\n",
       "      <td>45</td>\n",
       "      <td>177.0</td>\n",
       "      <td>81.0</td>\n",
       "      <td>7.0</td>\n",
       "      <td>87.0</td>\n",
       "      <td>39.8</td>\n",
       "    </tr>\n",
       "    <tr>\n",
       "      <th>1</th>\n",
       "      <td>750001</td>\n",
       "      <td>1</td>\n",
       "      <td>26</td>\n",
       "      <td>200.0</td>\n",
       "      <td>97.0</td>\n",
       "      <td>20.0</td>\n",
       "      <td>101.0</td>\n",
       "      <td>40.5</td>\n",
       "    </tr>\n",
       "    <tr>\n",
       "      <th>2</th>\n",
       "      <td>750002</td>\n",
       "      <td>0</td>\n",
       "      <td>29</td>\n",
       "      <td>188.0</td>\n",
       "      <td>85.0</td>\n",
       "      <td>16.0</td>\n",
       "      <td>102.0</td>\n",
       "      <td>40.4</td>\n",
       "    </tr>\n",
       "    <tr>\n",
       "      <th>3</th>\n",
       "      <td>750003</td>\n",
       "      <td>0</td>\n",
       "      <td>39</td>\n",
       "      <td>172.0</td>\n",
       "      <td>73.0</td>\n",
       "      <td>20.0</td>\n",
       "      <td>107.0</td>\n",
       "      <td>40.6</td>\n",
       "    </tr>\n",
       "    <tr>\n",
       "      <th>4</th>\n",
       "      <td>750004</td>\n",
       "      <td>0</td>\n",
       "      <td>30</td>\n",
       "      <td>173.0</td>\n",
       "      <td>67.0</td>\n",
       "      <td>16.0</td>\n",
       "      <td>94.0</td>\n",
       "      <td>40.5</td>\n",
       "    </tr>\n",
       "  </tbody>\n",
       "</table>\n",
       "</div>"
      ],
      "text/plain": [
       "       id  Sex  Age  Height  Weight  Duration  Heart_Rate  Body_Temp\n",
       "0  750000    1   45   177.0    81.0       7.0        87.0       39.8\n",
       "1  750001    1   26   200.0    97.0      20.0       101.0       40.5\n",
       "2  750002    0   29   188.0    85.0      16.0       102.0       40.4\n",
       "3  750003    0   39   172.0    73.0      20.0       107.0       40.6\n",
       "4  750004    0   30   173.0    67.0      16.0        94.0       40.5"
      ]
     },
     "execution_count": 26,
     "metadata": {},
     "output_type": "execute_result"
    }
   ],
   "source": [
    "test.head()"
   ]
  },
  {
   "cell_type": "code",
   "execution_count": 27,
   "metadata": {
    "execution": {
     "iopub.execute_input": "2025-05-28T14:03:27.811011Z",
     "iopub.status.busy": "2025-05-28T14:03:27.810790Z",
     "iopub.status.idle": "2025-05-28T14:03:27.840109Z",
     "shell.execute_reply": "2025-05-28T14:03:27.839599Z",
     "shell.execute_reply.started": "2025-05-28T14:03:27.810996Z"
    },
    "trusted": true
   },
   "outputs": [
    {
     "data": {
      "text/html": [
       "<div>\n",
       "<style scoped>\n",
       "    .dataframe tbody tr th:only-of-type {\n",
       "        vertical-align: middle;\n",
       "    }\n",
       "\n",
       "    .dataframe tbody tr th {\n",
       "        vertical-align: top;\n",
       "    }\n",
       "\n",
       "    .dataframe thead th {\n",
       "        text-align: right;\n",
       "    }\n",
       "</style>\n",
       "<table border=\"1\" class=\"dataframe\">\n",
       "  <thead>\n",
       "    <tr style=\"text-align: right;\">\n",
       "      <th></th>\n",
       "      <th>Sex</th>\n",
       "      <th>Age</th>\n",
       "      <th>Height</th>\n",
       "      <th>Weight</th>\n",
       "      <th>Duration</th>\n",
       "      <th>Heart_Rate</th>\n",
       "      <th>Body_Temp</th>\n",
       "    </tr>\n",
       "  </thead>\n",
       "  <tbody>\n",
       "    <tr>\n",
       "      <th>0</th>\n",
       "      <td>1</td>\n",
       "      <td>45</td>\n",
       "      <td>177.0</td>\n",
       "      <td>81.0</td>\n",
       "      <td>7.0</td>\n",
       "      <td>87.0</td>\n",
       "      <td>39.8</td>\n",
       "    </tr>\n",
       "    <tr>\n",
       "      <th>1</th>\n",
       "      <td>1</td>\n",
       "      <td>26</td>\n",
       "      <td>200.0</td>\n",
       "      <td>97.0</td>\n",
       "      <td>20.0</td>\n",
       "      <td>101.0</td>\n",
       "      <td>40.5</td>\n",
       "    </tr>\n",
       "    <tr>\n",
       "      <th>2</th>\n",
       "      <td>0</td>\n",
       "      <td>29</td>\n",
       "      <td>188.0</td>\n",
       "      <td>85.0</td>\n",
       "      <td>16.0</td>\n",
       "      <td>102.0</td>\n",
       "      <td>40.4</td>\n",
       "    </tr>\n",
       "    <tr>\n",
       "      <th>3</th>\n",
       "      <td>0</td>\n",
       "      <td>39</td>\n",
       "      <td>172.0</td>\n",
       "      <td>73.0</td>\n",
       "      <td>20.0</td>\n",
       "      <td>107.0</td>\n",
       "      <td>40.6</td>\n",
       "    </tr>\n",
       "    <tr>\n",
       "      <th>4</th>\n",
       "      <td>0</td>\n",
       "      <td>30</td>\n",
       "      <td>173.0</td>\n",
       "      <td>67.0</td>\n",
       "      <td>16.0</td>\n",
       "      <td>94.0</td>\n",
       "      <td>40.5</td>\n",
       "    </tr>\n",
       "  </tbody>\n",
       "</table>\n",
       "</div>"
      ],
      "text/plain": [
       "   Sex  Age  Height  Weight  Duration  Heart_Rate  Body_Temp\n",
       "0    1   45   177.0    81.0       7.0        87.0       39.8\n",
       "1    1   26   200.0    97.0      20.0       101.0       40.5\n",
       "2    0   29   188.0    85.0      16.0       102.0       40.4\n",
       "3    0   39   172.0    73.0      20.0       107.0       40.6\n",
       "4    0   30   173.0    67.0      16.0        94.0       40.5"
      ]
     },
     "execution_count": 27,
     "metadata": {},
     "output_type": "execute_result"
    }
   ],
   "source": [
    "ids=test[\"id\"]\n",
    "test=test.drop(\"id\", axis=1)\n",
    "test.head()"
   ]
  },
  {
   "cell_type": "code",
   "execution_count": 28,
   "metadata": {
    "execution": {
     "iopub.execute_input": "2025-05-28T14:03:27.841262Z",
     "iopub.status.busy": "2025-05-28T14:03:27.840840Z",
     "iopub.status.idle": "2025-05-28T14:03:27.896963Z",
     "shell.execute_reply": "2025-05-28T14:03:27.896134Z",
     "shell.execute_reply.started": "2025-05-28T14:03:27.841221Z"
    },
    "trusted": true
   },
   "outputs": [],
   "source": [
    "test_tensor=torch.tensor(test.values,dtype=torch.float)\n",
    "\n",
    "test_numpy=test_tensor.numpy()\n",
    "\n",
    "# Scaling\n",
    "test_scaler_np=X_scaler.fit_transform(test_numpy)\n",
    "test_tensor=torch.tensor(test_scaler_np, dtype= torch.float)"
   ]
  },
  {
   "cell_type": "code",
   "execution_count": 29,
   "metadata": {
    "execution": {
     "iopub.execute_input": "2025-05-28T14:03:27.898169Z",
     "iopub.status.busy": "2025-05-28T14:03:27.897947Z",
     "iopub.status.idle": "2025-05-28T14:03:27.978736Z",
     "shell.execute_reply": "2025-05-28T14:03:27.977972Z",
     "shell.execute_reply.started": "2025-05-28T14:03:27.898153Z"
    },
    "trusted": true
   },
   "outputs": [
    {
     "name": "stdout",
     "output_type": "stream",
     "text": [
      "[[ 37.07574]\n",
      " [103.88339]\n",
      " [ 86.48013]\n",
      " ...\n",
      " [ 75.59096]\n",
      " [150.37173]\n",
      " [ 80.19188]]\n"
     ]
    }
   ],
   "source": [
    "model.eval()\n",
    "test_tensor=test_tensor.to(device)\n",
    "with torch.no_grad():\n",
    "    output=model(test_tensor)\n",
    "    predictions=output.cpu().numpy()\n",
    "    predictions=y_scaler.inverse_transform(predictions)\n",
    "    print(predictions) # 2D"
   ]
  },
  {
   "cell_type": "code",
   "execution_count": 30,
   "metadata": {
    "execution": {
     "iopub.execute_input": "2025-05-28T14:03:27.979934Z",
     "iopub.status.busy": "2025-05-28T14:03:27.979619Z",
     "iopub.status.idle": "2025-05-28T14:03:27.988173Z",
     "shell.execute_reply": "2025-05-28T14:03:27.987627Z",
     "shell.execute_reply.started": "2025-05-28T14:03:27.979918Z"
    },
    "trusted": true
   },
   "outputs": [
    {
     "data": {
      "text/html": [
       "<div>\n",
       "<style scoped>\n",
       "    .dataframe tbody tr th:only-of-type {\n",
       "        vertical-align: middle;\n",
       "    }\n",
       "\n",
       "    .dataframe tbody tr th {\n",
       "        vertical-align: top;\n",
       "    }\n",
       "\n",
       "    .dataframe thead th {\n",
       "        text-align: right;\n",
       "    }\n",
       "</style>\n",
       "<table border=\"1\" class=\"dataframe\">\n",
       "  <thead>\n",
       "    <tr style=\"text-align: right;\">\n",
       "      <th></th>\n",
       "      <th>id</th>\n",
       "      <th>Calories</th>\n",
       "    </tr>\n",
       "  </thead>\n",
       "  <tbody>\n",
       "    <tr>\n",
       "      <th>0</th>\n",
       "      <td>750000</td>\n",
       "      <td>37.075741</td>\n",
       "    </tr>\n",
       "    <tr>\n",
       "      <th>1</th>\n",
       "      <td>750001</td>\n",
       "      <td>103.883392</td>\n",
       "    </tr>\n",
       "    <tr>\n",
       "      <th>2</th>\n",
       "      <td>750002</td>\n",
       "      <td>86.480133</td>\n",
       "    </tr>\n",
       "    <tr>\n",
       "      <th>3</th>\n",
       "      <td>750003</td>\n",
       "      <td>116.782280</td>\n",
       "    </tr>\n",
       "    <tr>\n",
       "      <th>4</th>\n",
       "      <td>750004</td>\n",
       "      <td>79.270172</td>\n",
       "    </tr>\n",
       "  </tbody>\n",
       "</table>\n",
       "</div>"
      ],
      "text/plain": [
       "       id    Calories\n",
       "0  750000   37.075741\n",
       "1  750001  103.883392\n",
       "2  750002   86.480133\n",
       "3  750003  116.782280\n",
       "4  750004   79.270172"
      ]
     },
     "execution_count": 30,
     "metadata": {},
     "output_type": "execute_result"
    }
   ],
   "source": [
    "submission=pd.DataFrame(\n",
    "    {\n",
    "        \"id\":ids,\n",
    "        \"Calories\":predictions.flatten()\n",
    "    }\n",
    ")\n",
    "submission.head()"
   ]
  },
  {
   "cell_type": "code",
   "execution_count": 31,
   "metadata": {
    "execution": {
     "iopub.execute_input": "2025-05-28T14:03:27.988919Z",
     "iopub.status.busy": "2025-05-28T14:03:27.988742Z",
     "iopub.status.idle": "2025-05-28T14:03:28.328855Z",
     "shell.execute_reply": "2025-05-28T14:03:28.328280Z",
     "shell.execute_reply.started": "2025-05-28T14:03:27.988906Z"
    },
    "trusted": true
   },
   "outputs": [],
   "source": [
    "submission.to_csv(\"Predicted_Calories_Burnt.csv\",index=False)"
   ]
  },
  {
   "cell_type": "code",
   "execution_count": null,
   "metadata": {
    "trusted": true
   },
   "outputs": [],
   "source": []
  }
 ],
 "metadata": {
  "kaggle": {
   "accelerator": "gpu",
   "dataSources": [
    {
     "databundleVersionId": 11893428,
     "sourceId": 91716,
     "sourceType": "competition"
    }
   ],
   "dockerImageVersionId": 31041,
   "isGpuEnabled": true,
   "isInternetEnabled": true,
   "language": "python",
   "sourceType": "notebook"
  },
  "kernelspec": {
   "display_name": "Python 3",
   "language": "python",
   "name": "python3"
  },
  "language_info": {
   "codemirror_mode": {
    "name": "ipython",
    "version": 3
   },
   "file_extension": ".py",
   "mimetype": "text/x-python",
   "name": "python",
   "nbconvert_exporter": "python",
   "pygments_lexer": "ipython3",
   "version": "3.11.11"
  }
 },
 "nbformat": 4,
 "nbformat_minor": 4
}
